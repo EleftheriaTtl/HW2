{
 "cells": [
  {
   "cell_type": "code",
   "execution_count": 5,
   "metadata": {},
   "outputs": [],
   "source": [
    "import pandas as pd\n",
    "import datetime  \n",
    "from dateutil.parser import parse\n",
    "from collections import defaultdict\n",
    "import matplotlib.pyplot as plt\n",
    "#--------------------------------------------------------------------------------\n",
    "#read my file\n",
    "coaches = pd.read_json(\"coaches.json\")\n",
    "teams = pd.read_json(\"teams.json\")\n",
    "eng = pd.read_json(\"matches_England.json\")\n",
    "teams = []\n",
    "score = []\n",
    "ranking = dict()\n",
    "for result in eng[\"label\"]:\n",
    "    teams.append(result.split(\",\")[0].strip())\n",
    "    score.append(result.split(\",\")[1].strip())\n",
    "matchteam = []\n",
    "matchscore = []\n",
    "for i in range(len(teams)):\n",
    "    o = teams[i].split(\"-\")\n",
    "    p = score[i].split(\"-\")\n",
    "    matchteam.append([o[0].strip(), o[1].strip()])\n",
    "    matchscore.append([p[0].strip(), p[1].strip()])\n",
    "def cont(myteam):\n",
    "    winhome = 0\n",
    "    winaway = 0\n",
    "    drawhome = 0\n",
    "    drawaway = 0\n",
    "    losehome = 0\n",
    "    loseaway = 0\n",
    "    for i in range(len(eng)):\n",
    "        if myteam==matchteam[i][0]:\n",
    "            if matchscore[i][0]>matchscore[i][1]:\n",
    "                winhome +=1\n",
    "            elif matchscore[i][0]<matchscore[i][1]:\n",
    "                losehome +=1\n",
    "            else:\n",
    "                drawhome +=1\n",
    "        elif myteam==matchteam[i][1]:\n",
    "            if matchscore[i][0]>matchscore[i][1]:\n",
    "                loseaway +=1\n",
    "            elif matchscore[i][0]<matchscore[i][1]:\n",
    "                winaway +=1\n",
    "            else:\n",
    "                drawaway +=1\n",
    "    lst = [[winhome,winaway], [losehome, loseaway], [drawhome, drawaway]]\n",
    "    Contigency_Table = pd.DataFrame(lst)\n",
    "    Contigency_Table.columns = [\"Home\", \"Away\"]\n",
    "    Contigency_Table.rename(index = {0:'''Win''', 1:'''Lose''', 2:'''Draw'''}, inplace = True)\n",
    "    return Contigency_Table"
   ]
  },
  {
   "cell_type": "code",
   "execution_count": null,
   "metadata": {},
   "outputs": [],
   "source": []
  },
  {
   "cell_type": "code",
   "execution_count": null,
   "metadata": {},
   "outputs": [],
   "source": []
  },
  {
   "cell_type": "code",
   "execution_count": null,
   "metadata": {},
   "outputs": [],
   "source": []
  },
  {
   "cell_type": "code",
   "execution_count": null,
   "metadata": {},
   "outputs": [],
   "source": []
  },
  {
   "cell_type": "code",
   "execution_count": null,
   "metadata": {},
   "outputs": [],
   "source": []
  },
  {
   "cell_type": "code",
   "execution_count": null,
   "metadata": {},
   "outputs": [],
   "source": []
  },
  {
   "cell_type": "code",
   "execution_count": null,
   "metadata": {},
   "outputs": [],
   "source": []
  },
  {
   "cell_type": "code",
   "execution_count": null,
   "metadata": {},
   "outputs": [],
   "source": []
  },
  {
   "cell_type": "code",
   "execution_count": null,
   "metadata": {},
   "outputs": [],
   "source": []
  },
  {
   "cell_type": "code",
   "execution_count": null,
   "metadata": {},
   "outputs": [],
   "source": []
  },
  {
   "cell_type": "code",
   "execution_count": null,
   "metadata": {},
   "outputs": [],
   "source": []
  },
  {
   "cell_type": "code",
   "execution_count": null,
   "metadata": {},
   "outputs": [],
   "source": []
  },
  {
   "cell_type": "code",
   "execution_count": null,
   "metadata": {},
   "outputs": [],
   "source": []
  },
  {
   "cell_type": "code",
   "execution_count": null,
   "metadata": {},
   "outputs": [],
   "source": []
  },
  {
   "cell_type": "code",
   "execution_count": null,
   "metadata": {},
   "outputs": [],
   "source": []
  },
  {
   "cell_type": "code",
   "execution_count": null,
   "metadata": {},
   "outputs": [],
   "source": []
  },
  {
   "cell_type": "code",
   "execution_count": null,
   "metadata": {},
   "outputs": [],
   "source": []
  },
  {
   "cell_type": "code",
   "execution_count": null,
   "metadata": {},
   "outputs": [],
   "source": []
  },
  {
   "cell_type": "code",
   "execution_count": null,
   "metadata": {},
   "outputs": [],
   "source": []
  },
  {
   "cell_type": "code",
   "execution_count": null,
   "metadata": {},
   "outputs": [],
   "source": []
  },
  {
   "cell_type": "code",
   "execution_count": null,
   "metadata": {},
   "outputs": [],
   "source": []
  },
  {
   "cell_type": "code",
   "execution_count": null,
   "metadata": {},
   "outputs": [],
   "source": []
  },
  {
   "cell_type": "code",
   "execution_count": null,
   "metadata": {},
   "outputs": [],
   "source": []
  },
  {
   "cell_type": "code",
   "execution_count": null,
   "metadata": {},
   "outputs": [],
   "source": []
  },
  {
   "cell_type": "code",
   "execution_count": null,
   "metadata": {},
   "outputs": [],
   "source": []
  }
 ],
 "metadata": {
  "kernelspec": {
   "display_name": "Python 3",
   "language": "python",
   "name": "python3"
  },
  "language_info": {
   "codemirror_mode": {
    "name": "ipython",
    "version": 3
   },
   "file_extension": ".py",
   "mimetype": "text/x-python",
   "name": "python",
   "nbconvert_exporter": "python",
   "pygments_lexer": "ipython3",
   "version": "3.7.1"
  }
 },
 "nbformat": 4,
 "nbformat_minor": 2
}
