{
 "cells": [
  {
   "cell_type": "markdown",
   "metadata": {},
   "source": [
    "function splitSwap(a, l, n):\n",
    "  if n <= 1:\n",
    "    return\n",
    "  splitSwap(a, l, n/2)\n",
    "  splitSwap(a, l+ n /2, n/2)\n",
    "  swapList(a, l, n)\n",
    "\n",
    "function swapList(a, l, n):\n",
    "  for i = 0 to n/2:\n",
    "    tmp = a[l + i]\n",
    "    a[l + i] = a[l + n/2 + i]\n",
    "    a[l + n/2 + i] = tmp\n",
    "\n",
    "\n",
    "Algo cost\n",
    "T(n) = 2T(n/2) + n/2\n",
    "T(n) = 2(2T(n/2) + n/4) + n/2 = 4T(n/4)+n\n",
    "T(n) = 2(2(2T(n/8)+n/8)+n/4)+n/2 = 8 T(n/8)+3n/2\n",
    "T(n) = 2^i T(n/2^i)+ in/2\n",
    "n/2^i = 1\n",
    "n=2^i\n",
    "i=logn\n",
    "T(n) = nT(1) + n/2logn  => O(nlogn)\n",
    "\n",
    "This algo changes the order of the elements in an array, using as a method the reorder of subarray. \n",
    "For example if i have in input the array [1,2,3,4] I have as a return an array [3,4,1,2]. \n"
   ]
  }
 ],
 "metadata": {
  "kernelspec": {
   "display_name": "Python 3",
   "language": "python",
   "name": "python3"
  },
  "language_info": {
   "codemirror_mode": {
    "name": "ipython",
    "version": 3
   },
   "file_extension": ".py",
   "mimetype": "text/x-python",
   "name": "python",
   "nbconvert_exporter": "python",
   "pygments_lexer": "ipython3",
   "version": "3.7.3"
  }
 },
 "nbformat": 4,
 "nbformat_minor": 2
}
